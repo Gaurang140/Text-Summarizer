{
 "cells": [
  {
   "cell_type": "code",
   "execution_count": 1,
   "metadata": {},
   "outputs": [],
   "source": [
    "import os \n",
    "import sys\n",
    "from  dataclasses import dataclass\n",
    "import pathlib\n",
    "from pathlib import Path"
   ]
  },
  {
   "cell_type": "code",
   "execution_count": 2,
   "metadata": {},
   "outputs": [
    {
     "data": {
      "text/plain": [
       "'d:\\\\Projects\\\\Text Summerizer\\\\Text-Summarizer\\\\research'"
      ]
     },
     "execution_count": 2,
     "metadata": {},
     "output_type": "execute_result"
    }
   ],
   "source": [
    "%pwd"
   ]
  },
  {
   "cell_type": "code",
   "execution_count": 3,
   "metadata": {},
   "outputs": [],
   "source": [
    "os.chdir(\"../\")"
   ]
  },
  {
   "cell_type": "code",
   "execution_count": 4,
   "metadata": {},
   "outputs": [
    {
     "data": {
      "text/plain": [
       "'d:\\\\Projects\\\\Text Summerizer\\\\Text-Summarizer'"
      ]
     },
     "execution_count": 4,
     "metadata": {},
     "output_type": "execute_result"
    }
   ],
   "source": [
    "%pwd "
   ]
  },
  {
   "cell_type": "code",
   "execution_count": 5,
   "metadata": {},
   "outputs": [],
   "source": [
    "from dataclasses import dataclass\n",
    "from pathlib import Path\n",
    "\n",
    "@dataclass()\n",
    "class DataIngestionConfig:\n",
    "    root_dir : Path\n",
    "    source_url :str\n",
    "    local_data_files : Path\n",
    "    unzip_dir : Path\n",
    "    \n",
    "\n",
    "    \n",
    "\n",
    "\n",
    "\n"
   ]
  },
  {
   "cell_type": "code",
   "execution_count": 6,
   "metadata": {},
   "outputs": [],
   "source": [
    "from textSummarizer.constants import CONFIG_FILE_PATH , PARAMS_FILE_PATH\n",
    "from textSummarizer.utils.common import read_yaml\n",
    "from textSummarizer.utils.common import create_directories"
   ]
  },
  {
   "cell_type": "code",
   "execution_count": 7,
   "metadata": {},
   "outputs": [],
   "source": [
    "class ConfigManager(object):\n",
    "    def __init__(self,\n",
    "                 config_file_path = CONFIG_FILE_PATH ,\n",
    "                 params_file_path = PARAMS_FILE_PATH): \n",
    "        \n",
    "        self.config = read_yaml(config_file_path)\n",
    "        self.params = read_yaml(params_file_path)\n",
    "        create_directories([self.config.artifact_root])\n",
    "\n",
    "    def get_data_ingestion_config(self)->DataIngestionConfig:\n",
    "        config = self.config.data_ingestion\n",
    "\n",
    "        create_directories([config.root_dir])\n",
    "        data_ingestion_config = DataIngestionConfig(\n",
    "            root_dir=config.root_dir,\n",
    "            source_url=config.source_url,\n",
    "            local_data_files=config.local_data_files,\n",
    "            unzip_dir=config.unzip_dir\n",
    "\n",
    "\n",
    "        )\n",
    "        return data_ingestion_config\n",
    "\n",
    "        \n",
    "\n"
   ]
  },
  {
   "cell_type": "code",
   "execution_count": 11,
   "metadata": {},
   "outputs": [],
   "source": [
    "# components \n",
    "import os \n",
    "from urllib import request as request\n",
    "import zipfile\n",
    "from textSummarizer.logging import logger \n",
    "from textSummarizer.utils.common import get_size\n",
    "\n"
   ]
  },
  {
   "cell_type": "code",
   "execution_count": 18,
   "metadata": {},
   "outputs": [],
   "source": [
    "class DataIngestion:\n",
    "    def __init__(self , config:DataIngestionConfig):\n",
    "        self.config = config\n",
    "\n",
    "    def download_data(self):\n",
    "        if not os.path.exists(self.config.local_data_files):\n",
    "            filename, headers = request.urlretrieve(\n",
    "                url = self.config.source_url,\n",
    "                filename = self.config.local_data_files\n",
    "                \n",
    "            )\n",
    "            logger.info(f'{filename}  download! with folder info \\n{headers}')\n",
    "        else : \n",
    "            logger.info(f\"file already exist size of {get_size(Path(self.config.local_data_files))}\")\n",
    "\n",
    "\n",
    "    def extract_data(self):\n",
    "        \"\"\"\n",
    "        Zip_file_path  : str \n",
    "        Extrtact the data from the zip file into the local data folder\n",
    "        functions return None \n",
    "        \"\"\"\n",
    "        unzip_file_path = self.config.unzip_dir\n",
    "\n",
    "        os.makedirs(unzip_file_path, exist_ok=True)\n",
    "        with zipfile.ZipFile(self.config.local_data_files, 'r') as zip_ref:\n",
    "            zip_ref.extractall(unzip_file_path)"
   ]
  },
  {
   "cell_type": "code",
   "execution_count": 20,
   "metadata": {},
   "outputs": [
    {
     "name": "stdout",
     "output_type": "stream",
     "text": [
      "[2023-06-23 18:56:55,330: INFO: common: yaml file: config\\config.yaml loaded successfully]\n",
      "[2023-06-23 18:56:55,333: INFO: common: yaml file: params.yaml loaded successfully]\n",
      "[2023-06-23 18:56:55,335: INFO: common: created directory at: artifacts]\n",
      "[2023-06-23 18:56:55,337: INFO: common: created directory at: artifacts/data_ingestion]\n",
      "[2023-06-23 18:56:55,340: INFO: 566250581: file already exist size of ~ 7718 KB]\n"
     ]
    }
   ],
   "source": [
    "# pipeline \n",
    "\n",
    "try : \n",
    "    config = ConfigManager()\n",
    "    data_ingestion_config = config.get_data_ingestion_config()\n",
    "    data_ingestion = DataIngestion(config=data_ingestion_config)\n",
    "    data_ingestion.download_data()\n",
    "    data_ingestion.extract_data()\n",
    "except Exception as e: \n",
    "    raise  e"
   ]
  },
  {
   "cell_type": "code",
   "execution_count": null,
   "metadata": {},
   "outputs": [],
   "source": []
  }
 ],
 "metadata": {
  "kernelspec": {
   "display_name": "textenv",
   "language": "python",
   "name": "python3"
  },
  "language_info": {
   "codemirror_mode": {
    "name": "ipython",
    "version": 3
   },
   "file_extension": ".py",
   "mimetype": "text/x-python",
   "name": "python",
   "nbconvert_exporter": "python",
   "pygments_lexer": "ipython3",
   "version": "3.8.16"
  },
  "orig_nbformat": 4
 },
 "nbformat": 4,
 "nbformat_minor": 2
}
